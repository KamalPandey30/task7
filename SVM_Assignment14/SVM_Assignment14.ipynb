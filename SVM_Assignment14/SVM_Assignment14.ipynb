{
 "cells": [
  {
   "cell_type": "code",
   "execution_count": 2,
   "metadata": {
    "execution": {
     "iopub.execute_input": "2021-05-04T13:42:36.006110Z",
     "iopub.status.busy": "2021-05-04T13:42:36.005444Z",
     "iopub.status.idle": "2021-05-04T13:42:37.275569Z",
     "shell.execute_reply": "2021-05-04T13:42:37.274965Z"
    },
    "papermill": {
     "duration": 1.283505,
     "end_time": "2021-05-04T13:42:37.275745",
     "exception": false,
     "start_time": "2021-05-04T13:42:35.992240",
     "status": "completed"
    },
    "tags": []
   },
   "outputs": [],
   "source": [
    "import numpy as np\n",
    "import pandas as pd\n",
    "import matplotlib.pyplot as plt\n",
    "from sklearn.model_selection import train_test_split\n",
    "from sklearn.svm import SVC\n",
    "clf = SVC(kernel='linear')"
   ]
  },
  {
   "cell_type": "code",
   "execution_count": 3,
   "metadata": {
    "execution": {
     "iopub.execute_input": "2021-05-04T13:42:37.303715Z",
     "iopub.status.busy": "2021-05-04T13:42:37.303074Z",
     "iopub.status.idle": "2021-05-04T13:42:37.342245Z",
     "shell.execute_reply": "2021-05-04T13:42:37.342711Z"
    },
    "papermill": {
     "duration": 0.055979,
     "end_time": "2021-05-04T13:42:37.342884",
     "exception": false,
     "start_time": "2021-05-04T13:42:37.286905",
     "status": "completed"
    },
    "tags": []
   },
   "outputs": [
    {
     "data": {
      "text/html": [
       "<div>\n",
       "<style scoped>\n",
       "    .dataframe tbody tr th:only-of-type {\n",
       "        vertical-align: middle;\n",
       "    }\n",
       "\n",
       "    .dataframe tbody tr th {\n",
       "        vertical-align: top;\n",
       "    }\n",
       "\n",
       "    .dataframe thead th {\n",
       "        text-align: right;\n",
       "    }\n",
       "</style>\n",
       "<table border=\"1\" class=\"dataframe\">\n",
       "  <thead>\n",
       "    <tr style=\"text-align: right;\">\n",
       "      <th></th>\n",
       "      <th>User ID</th>\n",
       "      <th>Gender</th>\n",
       "      <th>Age</th>\n",
       "      <th>EstimatedSalary</th>\n",
       "      <th>Purchased</th>\n",
       "    </tr>\n",
       "  </thead>\n",
       "  <tbody>\n",
       "    <tr>\n",
       "      <th>0</th>\n",
       "      <td>15624510</td>\n",
       "      <td>Male</td>\n",
       "      <td>19</td>\n",
       "      <td>19000</td>\n",
       "      <td>0</td>\n",
       "    </tr>\n",
       "    <tr>\n",
       "      <th>1</th>\n",
       "      <td>15810944</td>\n",
       "      <td>Male</td>\n",
       "      <td>35</td>\n",
       "      <td>20000</td>\n",
       "      <td>0</td>\n",
       "    </tr>\n",
       "    <tr>\n",
       "      <th>2</th>\n",
       "      <td>15668575</td>\n",
       "      <td>Female</td>\n",
       "      <td>26</td>\n",
       "      <td>43000</td>\n",
       "      <td>0</td>\n",
       "    </tr>\n",
       "    <tr>\n",
       "      <th>3</th>\n",
       "      <td>15603246</td>\n",
       "      <td>Female</td>\n",
       "      <td>27</td>\n",
       "      <td>57000</td>\n",
       "      <td>0</td>\n",
       "    </tr>\n",
       "    <tr>\n",
       "      <th>4</th>\n",
       "      <td>15804002</td>\n",
       "      <td>Male</td>\n",
       "      <td>19</td>\n",
       "      <td>76000</td>\n",
       "      <td>0</td>\n",
       "    </tr>\n",
       "  </tbody>\n",
       "</table>\n",
       "</div>"
      ],
      "text/plain": [
       "    User ID  Gender  Age  EstimatedSalary  Purchased\n",
       "0  15624510    Male   19            19000          0\n",
       "1  15810944    Male   35            20000          0\n",
       "2  15668575  Female   26            43000          0\n",
       "3  15603246  Female   27            57000          0\n",
       "4  15804002    Male   19            76000          0"
      ]
     },
     "execution_count": 3,
     "metadata": {},
     "output_type": "execute_result"
    }
   ],
   "source": [
    "df = pd.read_csv('Social_Network_Ads.csv')\n",
    "df.head()"
   ]
  },
  {
   "cell_type": "code",
   "execution_count": 4,
   "metadata": {
    "execution": {
     "iopub.execute_input": "2021-05-04T13:42:37.371875Z",
     "iopub.status.busy": "2021-05-04T13:42:37.371229Z",
     "iopub.status.idle": "2021-05-04T13:42:37.377202Z",
     "shell.execute_reply": "2021-05-04T13:42:37.376665Z"
    },
    "papermill": {
     "duration": 0.022717,
     "end_time": "2021-05-04T13:42:37.377351",
     "exception": false,
     "start_time": "2021-05-04T13:42:37.354634",
     "status": "completed"
    },
    "tags": []
   },
   "outputs": [
    {
     "name": "stdout",
     "output_type": "stream",
     "text": [
      "[[   19 19000]\n",
      " [   35 20000]\n",
      " [   26 43000]\n",
      " [   27 57000]\n",
      " [   19 76000]]\n"
     ]
    }
   ],
   "source": [
    "x = df.iloc[:,[2,3]].values\n",
    "y = df.iloc[:, -1].values\n",
    "print(x[0:5])"
   ]
  },
  {
   "cell_type": "code",
   "execution_count": 5,
   "metadata": {
    "execution": {
     "iopub.execute_input": "2021-05-04T13:42:37.408007Z",
     "iopub.status.busy": "2021-05-04T13:42:37.406997Z",
     "iopub.status.idle": "2021-05-04T13:42:37.410337Z",
     "shell.execute_reply": "2021-05-04T13:42:37.410839Z"
    },
    "papermill": {
     "duration": 0.02125,
     "end_time": "2021-05-04T13:42:37.411001",
     "exception": false,
     "start_time": "2021-05-04T13:42:37.389751",
     "status": "completed"
    },
    "tags": []
   },
   "outputs": [
    {
     "name": "stdout",
     "output_type": "stream",
     "text": [
      "[0 0 0 0 0]\n"
     ]
    }
   ],
   "source": [
    "print(y[0:5])"
   ]
  },
  {
   "cell_type": "code",
   "execution_count": 6,
   "metadata": {
    "execution": {
     "iopub.execute_input": "2021-05-04T13:42:37.441693Z",
     "iopub.status.busy": "2021-05-04T13:42:37.440912Z",
     "iopub.status.idle": "2021-05-04T13:42:37.445625Z",
     "shell.execute_reply": "2021-05-04T13:42:37.445134Z"
    },
    "papermill": {
     "duration": 0.022449,
     "end_time": "2021-05-04T13:42:37.445782",
     "exception": false,
     "start_time": "2021-05-04T13:42:37.423333",
     "status": "completed"
    },
    "tags": []
   },
   "outputs": [
    {
     "name": "stdout",
     "output_type": "stream",
     "text": [
      "Training Data (284, 2)\n"
     ]
    }
   ],
   "source": [
    "x_train, x_test, y_train, y_test = train_test_split(x,y,test_size=0.29, random_state =0)\n",
    "print('Training Data', x_train.shape)"
   ]
  },
  {
   "cell_type": "code",
   "execution_count": 7,
   "metadata": {
    "execution": {
     "iopub.execute_input": "2021-05-04T13:42:37.478015Z",
     "iopub.status.busy": "2021-05-04T13:42:37.475026Z",
     "iopub.status.idle": "2021-05-04T13:42:37.482126Z",
     "shell.execute_reply": "2021-05-04T13:42:37.482700Z"
    },
    "papermill": {
     "duration": 0.024262,
     "end_time": "2021-05-04T13:42:37.482874",
     "exception": false,
     "start_time": "2021-05-04T13:42:37.458612",
     "status": "completed"
    },
    "tags": []
   },
   "outputs": [],
   "source": [
    "from sklearn.preprocessing import StandardScaler\n",
    "sc = StandardScaler()\n",
    "x_train = sc.fit_transform(x_train)\n",
    "x_test = sc.transform (x_test)"
   ]
  },
  {
   "cell_type": "code",
   "execution_count": 8,
   "metadata": {
    "execution": {
     "iopub.execute_input": "2021-05-04T13:42:37.515215Z",
     "iopub.status.busy": "2021-05-04T13:42:37.514519Z",
     "iopub.status.idle": "2021-05-04T13:42:37.519508Z",
     "shell.execute_reply": "2021-05-04T13:42:37.518311Z"
    },
    "papermill": {
     "duration": 0.023401,
     "end_time": "2021-05-04T13:42:37.519779",
     "exception": false,
     "start_time": "2021-05-04T13:42:37.496378",
     "status": "completed"
    },
    "tags": []
   },
   "outputs": [
    {
     "name": "stdout",
     "output_type": "stream",
     "text": [
      "[[ 0.69552659  1.76261186]\n",
      " [-0.68098597  0.54767778]\n",
      " [ 0.79384892  0.34518877]\n",
      " [ 0.89217124 -0.55154829]\n",
      " [-1.1725976  -1.59292036]]\n"
     ]
    }
   ],
   "source": [
    "print(x_train[0:5])"
   ]
  },
  {
   "cell_type": "code",
   "execution_count": 9,
   "metadata": {
    "execution": {
     "iopub.execute_input": "2021-05-04T13:42:37.553980Z",
     "iopub.status.busy": "2021-05-04T13:42:37.553056Z",
     "iopub.status.idle": "2021-05-04T13:42:37.558693Z",
     "shell.execute_reply": "2021-05-04T13:42:37.557926Z"
    },
    "papermill": {
     "duration": 0.024456,
     "end_time": "2021-05-04T13:42:37.558891",
     "exception": false,
     "start_time": "2021-05-04T13:42:37.534435",
     "status": "completed"
    },
    "tags": []
   },
   "outputs": [
    {
     "name": "stdout",
     "output_type": "stream",
     "text": [
      "[[-0.77930829  0.48982378]\n",
      " [ 0.00727031 -0.5804753 ]\n",
      " [-0.28769666  0.14269975]\n",
      " [-0.77930829  0.25840776]\n",
      " [-0.28769666 -0.5804753 ]]\n"
     ]
    }
   ],
   "source": [
    "print(x_test[0:5])"
   ]
  },
  {
   "cell_type": "code",
   "execution_count": 10,
   "metadata": {
    "execution": {
     "iopub.execute_input": "2021-05-04T13:42:37.596524Z",
     "iopub.status.busy": "2021-05-04T13:42:37.595875Z",
     "iopub.status.idle": "2021-05-04T13:42:37.605825Z",
     "shell.execute_reply": "2021-05-04T13:42:37.605292Z"
    },
    "papermill": {
     "duration": 0.030991,
     "end_time": "2021-05-04T13:42:37.605976",
     "exception": false,
     "start_time": "2021-05-04T13:42:37.574985",
     "status": "completed"
    },
    "tags": []
   },
   "outputs": [
    {
     "data": {
      "text/plain": [
       "SVC(kernel='linear', random_state=0)"
      ]
     },
     "execution_count": 10,
     "metadata": {},
     "output_type": "execute_result"
    }
   ],
   "source": [
    "classifier = SVC(kernel = 'linear', random_state = 0)\n",
    "classifier.fit(x_train, y_train)"
   ]
  },
  {
   "cell_type": "code",
   "execution_count": 11,
   "metadata": {
    "execution": {
     "iopub.execute_input": "2021-05-04T13:42:37.639273Z",
     "iopub.status.busy": "2021-05-04T13:42:37.638599Z",
     "iopub.status.idle": "2021-05-04T13:42:37.642786Z",
     "shell.execute_reply": "2021-05-04T13:42:37.642233Z"
    },
    "papermill": {
     "duration": 0.022398,
     "end_time": "2021-05-04T13:42:37.642928",
     "exception": false,
     "start_time": "2021-05-04T13:42:37.620530",
     "status": "completed"
    },
    "tags": []
   },
   "outputs": [],
   "source": [
    "y_predict = classifier.predict(x_test)"
   ]
  },
  {
   "cell_type": "code",
   "execution_count": 12,
   "metadata": {
    "execution": {
     "iopub.execute_input": "2021-05-04T13:42:37.677444Z",
     "iopub.status.busy": "2021-05-04T13:42:37.676762Z",
     "iopub.status.idle": "2021-05-04T13:42:37.681465Z",
     "shell.execute_reply": "2021-05-04T13:42:37.680921Z"
    },
    "papermill": {
     "duration": 0.024198,
     "end_time": "2021-05-04T13:42:37.681615",
     "exception": false,
     "start_time": "2021-05-04T13:42:37.657417",
     "status": "completed"
    },
    "tags": []
   },
   "outputs": [
    {
     "data": {
      "text/plain": [
       "array([0, 0, 0, 0, 0])"
      ]
     },
     "execution_count": 12,
     "metadata": {},
     "output_type": "execute_result"
    }
   ],
   "source": [
    "y_predict[0:5]"
   ]
  },
  {
   "cell_type": "code",
   "execution_count": 13,
   "metadata": {
    "execution": {
     "iopub.execute_input": "2021-05-04T13:42:37.717189Z",
     "iopub.status.busy": "2021-05-04T13:42:37.716465Z",
     "iopub.status.idle": "2021-05-04T13:42:37.723693Z",
     "shell.execute_reply": "2021-05-04T13:42:37.723111Z"
    },
    "papermill": {
     "duration": 0.02736,
     "end_time": "2021-05-04T13:42:37.723831",
     "exception": false,
     "start_time": "2021-05-04T13:42:37.696471",
     "status": "completed"
    },
    "tags": []
   },
   "outputs": [
    {
     "name": "stdout",
     "output_type": "stream",
     "text": [
      "Accuracy:\n",
      "0.8706896551724138\n"
     ]
    }
   ],
   "source": [
    "clf.fit(x_train,y_train)\n",
    "y_pred = clf.predict(x_test)\n",
    "print('Accuracy:')\n",
    "print((y_test==y_pred).sum()/len(y_pred))"
   ]
  },
  {
   "cell_type": "code",
   "execution_count": 14,
   "metadata": {
    "execution": {
     "iopub.execute_input": "2021-05-04T13:42:37.771123Z",
     "iopub.status.busy": "2021-05-04T13:42:37.770111Z",
     "iopub.status.idle": "2021-05-04T13:42:37.945282Z",
     "shell.execute_reply": "2021-05-04T13:42:37.945810Z"
    },
    "papermill": {
     "duration": 0.2068,
     "end_time": "2021-05-04T13:42:37.945983",
     "exception": false,
     "start_time": "2021-05-04T13:42:37.739183",
     "status": "completed"
    },
    "tags": []
   },
   "outputs": [
    {
     "data": {
      "image/png": "[encoded data removed]",
      "text/plain": [
       "<Figure size 432x288 with 1 Axes>"
      ]
     },
     "metadata": {
      "needs_background": "light"
     },
     "output_type": "display_data"
    }
   ],
   "source": [
    "plt.scatter(x_test[:,0],x_test[:,1],c = y_pred)\n",
    "plt.scatter(x_train[:,0],x_train[:,1],c = y_train)\n",
    "w = clf.coef_[0]\n",
    "a = -w[0] / w[1]\n",
    "xx = np.linspace(-2, 2)\n",
    "yy = a * xx - (clf.intercept_[0]) / w[1]\n",
    "plt.plot(xx, yy)\n",
    "plt.show()"
   ]
  }
 ],
 "metadata": {
  "kernelspec": {
   "display_name": "Python 3",
   "language": "python",
   "name": "python3"
  },
  "language_info": {
   "codemirror_mode": {
    "name": "ipython",
    "version": 3
   },
   "file_extension": ".py",
   "mimetype": "text/x-python",
   "name": "python",
   "nbconvert_exporter": "python",
   "pygments_lexer": "ipython3",
   "version": "3.8.1"
  },
  "papermill": {
   "default_parameters": {},
   "duration": 8.954605,
   "end_time": "2021-05-04T13:42:38.575127",
   "environment_variables": {},
   "exception": null,
   "input_path": "__notebook__.ipynb",
   "output_path": "__notebook__.ipynb",
   "parameters": {},
   "start_time": "2021-05-04T13:42:29.620522",
   "version": "2.3.2"
  }
 },
 "nbformat": 4,
 "nbformat_minor": 5
}
